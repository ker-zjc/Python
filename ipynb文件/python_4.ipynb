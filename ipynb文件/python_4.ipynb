{
 "cells": [
  {
   "cell_type": "code",
   "execution_count": 2,
   "id": "0ff7696c-dd87-485b-ba1d-5a044fbdc9e3",
   "metadata": {},
   "outputs": [],
   "source": [
    "import cv2\n",
    "import numpy as np"
   ]
  },
  {
   "cell_type": "code",
   "execution_count": 3,
   "id": "32b44f02-f34e-4534-9a64-2fb8cc1e88cd",
   "metadata": {},
   "outputs": [
    {
     "data": {
      "text/plain": [
       "True"
      ]
     },
     "execution_count": 3,
     "metadata": {},
     "output_type": "execute_result"
    }
   ],
   "source": [
    "img = cv2.imread(\"mygirl with school.jpg\")#读入一份图像\n",
    "gray = cv2.cvtColor(img,cv2.COLOR_BGR2GRAY)#转化成灰度图\n",
    "T,thresh = cv2.threshold(gray, 127, 255, cv2.THRESH_BINARY)\n",
    "#由灰度图实现二值化的图片,T为阈值，cv2.THRESH_BINARY即为设置方法\n",
    "cv2.imwrite(\"school.jpg\", thresh)"
   ]
  },
  {
   "cell_type": "code",
   "execution_count": 4,
   "id": "1aded546-6f1e-4243-a99a-9b1517101d71",
   "metadata": {},
   "outputs": [
    {
     "ename": "error",
     "evalue": "OpenCV(4.5.3) C:\\Users\\runneradmin\\AppData\\Local\\Temp\\pip-req-build-q3d_8t8e\\opencv\\modules\\imgcodecs\\src\\loadsave.cpp:732: error: (-2:Unspecified error) could not find a writer for the specified extension in function 'cv::imwrite_'\n",
     "output_type": "error",
     "traceback": [
      "\u001b[1;31m---------------------------------------------------------------------------\u001b[0m",
      "\u001b[1;31merror\u001b[0m                                     Traceback (most recent call last)",
      "\u001b[1;32m<ipython-input-4-9d4178ca9a3f>\u001b[0m in \u001b[0;36m<module>\u001b[1;34m\u001b[0m\n\u001b[0;32m     22\u001b[0m \u001b[0mimg_cartoon\u001b[0m \u001b[1;33m=\u001b[0m \u001b[0mcv2\u001b[0m\u001b[1;33m.\u001b[0m\u001b[0mbitwise_and\u001b[0m\u001b[1;33m(\u001b[0m\u001b[0mimg_color\u001b[0m\u001b[1;33m,\u001b[0m \u001b[0mimg_edge\u001b[0m\u001b[1;33m)\u001b[0m\u001b[1;33m\u001b[0m\u001b[1;33m\u001b[0m\u001b[0m\n\u001b[0;32m     23\u001b[0m \u001b[1;31m# 显示图片\u001b[0m\u001b[1;33m\u001b[0m\u001b[1;33m\u001b[0m\u001b[1;33m\u001b[0m\u001b[0m\n\u001b[1;32m---> 24\u001b[1;33m \u001b[0mcv2\u001b[0m\u001b[1;33m.\u001b[0m\u001b[0mimwrite\u001b[0m\u001b[1;33m(\u001b[0m\u001b[1;34m\"cartoon\"\u001b[0m\u001b[1;33m,\u001b[0m \u001b[0mimg_cartoon\u001b[0m\u001b[1;33m)\u001b[0m\u001b[1;33m\u001b[0m\u001b[1;33m\u001b[0m\u001b[0m\n\u001b[0m",
      "\u001b[1;31merror\u001b[0m: OpenCV(4.5.3) C:\\Users\\runneradmin\\AppData\\Local\\Temp\\pip-req-build-q3d_8t8e\\opencv\\modules\\imgcodecs\\src\\loadsave.cpp:732: error: (-2:Unspecified error) could not find a writer for the specified extension in function 'cv::imwrite_'\n"
     ]
    }
   ],
   "source": [
    "import cv2\n",
    "num_down = 2  # 缩减像素采样的数目\n",
    "num_bilateral = 7 # 定义双边滤波的数目\n",
    "img_rgb = cv2.imread(\"mygirl with school.jpg\")\n",
    "# 用高斯金字塔降低取样\n",
    "img_color = img_rgb\n",
    "for _ in range(num_down):\n",
    "    img_color = cv2.pyrDown(img_color)\n",
    "# 重复使用小的双边滤波代替一个大的滤波\n",
    "for _ in range(num_bilateral):\n",
    "    img_color = cv2.bilateralFilter(img_color, d=9,sigmaColor=9,sigmaSpace=7)\n",
    "# 升采样图片到原始大小\n",
    "for _ in range(num_down):\n",
    "    img_color = cv2.pyrUp(img_color)\n",
    "# 转换为灰度并使其产生中等的模糊\n",
    "img_gray = cv2.cvtColor(img_rgb, cv2.COLOR_RGB2GRAY)\n",
    "img_blur = cv2.medianBlur(img_gray, 7)\n",
    "# 检测到边缘并且增强其效果\n",
    "img_edge = cv2.adaptiveThreshold(img_blur, 255,cv2.ADAPTIVE_THRESH_MEAN_C,cv2.THRESH_BINARY,blockSize=9,C=2)\n",
    "# 转换回彩色图像\n",
    "img_edge = cv2.cvtColor(img_edge, cv2.COLOR_GRAY2RGB)\n",
    "img_cartoon = cv2.bitwise_and(img_color, img_edge)\n",
    "# 显示图片\n",
    "cv2.imwrite(\"cartoon\", img_cartoon)"
   ]
  },
  {
   "cell_type": "code",
   "execution_count": null,
   "id": "50809dc2-749f-4c64-b0a9-a59bcdad396a",
   "metadata": {},
   "outputs": [],
   "source": []
  }
 ],
 "metadata": {
  "kernelspec": {
   "display_name": "Python 3",
   "language": "python",
   "name": "python3"
  },
  "language_info": {
   "codemirror_mode": {
    "name": "ipython",
    "version": 3
   },
   "file_extension": ".py",
   "mimetype": "text/x-python",
   "name": "python",
   "nbconvert_exporter": "python",
   "pygments_lexer": "ipython3",
   "version": "3.8.8"
  }
 },
 "nbformat": 4,
 "nbformat_minor": 5
}
