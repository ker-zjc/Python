{
 "cells": [
  {
   "cell_type": "code",
   "execution_count": 1,
   "id": "e91b1c7b",
   "metadata": {},
   "outputs": [],
   "source": [
    "import cv2\n",
    "import numpy as np"
   ]
  },
  {
   "cell_type": "code",
   "execution_count": 2,
   "id": "432c38ec",
   "metadata": {},
   "outputs": [],
   "source": [
    "img = cv2.imread('E:/desktop/asd/table.jpg')\n",
    "img2 = cv2.imread('E:/desktop/asd/mygirl with school.jpg')"
   ]
  },
  {
   "cell_type": "code",
   "execution_count": 3,
   "id": "c1081830",
   "metadata": {},
   "outputs": [
    {
     "data": {
      "text/plain": [
       "True"
      ]
     },
     "execution_count": 3,
     "metadata": {},
     "output_type": "execute_result"
    }
   ],
   "source": [
    "edge = cv2.Canny(cv2.cvtColor(img,cv2.COLOR_BGR2GRAY),100,150)\n",
    "cv2.imwrite(\"edge.jpg\",edge)"
   ]
  },
  {
   "cell_type": "code",
   "execution_count": 4,
   "id": "6294dfcf",
   "metadata": {},
   "outputs": [],
   "source": [
    "contours,h = cv2.findContours(edge,cv2.RETR_EXTERNAL,cv2.CHAIN_APPROX_SIMPLE)"
   ]
  },
  {
   "cell_type": "code",
   "execution_count": 5,
   "id": "ac960ced",
   "metadata": {},
   "outputs": [],
   "source": [
    "drawc = img.copy()"
   ]
  },
  {
   "cell_type": "code",
   "execution_count": 6,
   "id": "47895a51",
   "metadata": {},
   "outputs": [],
   "source": [
    "drawc = cv2.drawContours(drawc,contours,-1,(255,0,0),2)"
   ]
  },
  {
   "cell_type": "code",
   "execution_count": 7,
   "id": "dd5860c9",
   "metadata": {},
   "outputs": [
    {
     "data": {
      "text/plain": [
       "True"
      ]
     },
     "execution_count": 7,
     "metadata": {},
     "output_type": "execute_result"
    }
   ],
   "source": [
    "cv2.imwrite(\"contour.jpg\",drawc)"
   ]
  },
  {
   "cell_type": "code",
   "execution_count": 8,
   "id": "ac9160ac",
   "metadata": {},
   "outputs": [
    {
     "data": {
      "text/plain": [
       "True"
      ]
     },
     "execution_count": 8,
     "metadata": {},
     "output_type": "execute_result"
    }
   ],
   "source": [
    "mask = np.zeros(img.shape,dtype = \"uint8\")\n",
    "mask = cv2.drawContours(mask,contours,-1,(255,255,255),-1)\n",
    "cv2.imwrite(\"mask.jpg\",mask)\n",
    "divide = cv2.bitwise_and(mask,img)\n",
    "cv2.imwrite(\"divide.jpg\",divide)"
   ]
  },
  {
   "cell_type": "code",
   "execution_count": 9,
   "id": "6dfd6821",
   "metadata": {},
   "outputs": [],
   "source": [
    "(x,y,w,h) = cv2.boundingRect(contours[-1])"
   ]
  },
  {
   "cell_type": "code",
   "execution_count": 10,
   "id": "d53d3cd5",
   "metadata": {},
   "outputs": [
    {
     "data": {
      "text/plain": [
       "(88, 43, 335, 298)"
      ]
     },
     "execution_count": 10,
     "metadata": {},
     "output_type": "execute_result"
    }
   ],
   "source": [
    "(x,y,w,h)"
   ]
  },
  {
   "cell_type": "code",
   "execution_count": 11,
   "id": "aec05292",
   "metadata": {},
   "outputs": [
    {
     "data": {
      "text/plain": [
       "True"
      ]
     },
     "execution_count": 11,
     "metadata": {},
     "output_type": "execute_result"
    }
   ],
   "source": [
    "cut_eat=divide[y:y + h,x:x + w]\n",
    "cv2.imwrite(\"cuteat.jpg\",cut_eat)"
   ]
  },
  {
   "cell_type": "code",
   "execution_count": 12,
   "id": "554a4d09",
   "metadata": {},
   "outputs": [
    {
     "data": {
      "text/plain": [
       "True"
      ]
     },
     "execution_count": 12,
     "metadata": {},
     "output_type": "execute_result"
    }
   ],
   "source": [
    "cut_mask=mask[y:y + h,x:x + w]\n",
    "cv2.imwrite(\"cut_mask.jpg\",cut_mask)"
   ]
  },
  {
   "cell_type": "code",
   "execution_count": 13,
   "id": "09e2dc1f",
   "metadata": {},
   "outputs": [
    {
     "data": {
      "text/plain": [
       "True"
      ]
     },
     "execution_count": 13,
     "metadata": {},
     "output_type": "execute_result"
    }
   ],
   "source": [
    "cut_not = cv2.bitwise_not(cut_mask)\n",
    "cv2.imwrite(\"cut_not.jpg\",cut_not)"
   ]
  },
  {
   "cell_type": "code",
   "execution_count": 14,
   "id": "6419c7e3",
   "metadata": {},
   "outputs": [
    {
     "data": {
      "text/plain": [
       "True"
      ]
     },
     "execution_count": 14,
     "metadata": {},
     "output_type": "execute_result"
    }
   ],
   "source": [
    "cut_image2 = img2[50:50 + h, 50:50 + w]\n",
    "cv2.imwrite(\"cut_image2.jpg\",cut_image2)"
   ]
  },
  {
   "cell_type": "code",
   "execution_count": 15,
   "id": "f2fcdf01",
   "metadata": {},
   "outputs": [
    {
     "data": {
      "text/plain": [
       "True"
      ]
     },
     "execution_count": 15,
     "metadata": {},
     "output_type": "execute_result"
    }
   ],
   "source": [
    "cut_image2 = cv2.bitwise_and(cut_not,cut_image2)\n",
    "cv2.imwrite(\"cut_image2.jpg\",cut_image2)"
   ]
  },
  {
   "cell_type": "code",
   "execution_count": 16,
   "id": "cb1a00c3",
   "metadata": {},
   "outputs": [
    {
     "data": {
      "text/plain": [
       "True"
      ]
     },
     "execution_count": 16,
     "metadata": {},
     "output_type": "execute_result"
    }
   ],
   "source": [
    "cut_image2 = cv2.bitwise_or(cut_eat,cut_image2)\n",
    "cv2.imwrite(\"cut_image2.jpg\",cut_image2)"
   ]
  },
  {
   "cell_type": "code",
   "execution_count": 17,
   "id": "a79dc778",
   "metadata": {},
   "outputs": [
    {
     "data": {
      "text/plain": [
       "True"
      ]
     },
     "execution_count": 17,
     "metadata": {},
     "output_type": "execute_result"
    }
   ],
   "source": [
    "img2[50:50 + h, 50:50 + w] = cut_image2[:,:]\n",
    "cv2.imwrite(\"merge.jpg\",img2)#找了很久，换了很多张图，原来在左上角……"
   ]
  },
  {
   "cell_type": "code",
   "execution_count": null,
   "id": "c303ed60",
   "metadata": {},
   "outputs": [],
   "source": []
  },
  {
   "cell_type": "code",
   "execution_count": null,
   "id": "f4ec47ed",
   "metadata": {},
   "outputs": [],
   "source": []
  }
 ],
 "metadata": {
  "kernelspec": {
   "display_name": "Python 3",
   "language": "python",
   "name": "python3"
  },
  "language_info": {
   "codemirror_mode": {
    "name": "ipython",
    "version": 3
   },
   "file_extension": ".py",
   "mimetype": "text/x-python",
   "name": "python",
   "nbconvert_exporter": "python",
   "pygments_lexer": "ipython3",
   "version": "3.8.8"
  }
 },
 "nbformat": 4,
 "nbformat_minor": 5
}
