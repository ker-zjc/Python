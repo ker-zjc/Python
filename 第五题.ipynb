{
 "cells": [
  {
   "cell_type": "code",
   "execution_count": 2,
   "id": "a6740657",
   "metadata": {},
   "outputs": [
    {
     "data": {
      "text/plain": [
       "False"
      ]
     },
     "execution_count": 2,
     "metadata": {},
     "output_type": "execute_result"
    }
   ],
   "source": [
    "import cv2\n",
    "import numpy as np\n",
    "\n",
    "img = cv2.imread('a.jpg')\n",
    "img2 = cv2.imread('sss.jpg')\n",
    "edge = cv2.Canny(cv2.cvtColor(img, cv2.COLOR_BGR2GRAY), 60, 100)\n",
    "cv2.imwrite(\"edge.jpg\", edge)\n",
    "#提取轮廓\n",
    "contours, h = cv2.findContours(edge, cv2.RETR_EXTERNAL, cv2.CHAIN_APPROX_SIMPLE)\n",
    "\n",
    "drawc = img.copy()\n",
    "drawc = cv2.drawContours(drawc, contours,-1, (0, 0, 0), 2)\n",
    "cv2.imwrite(\"contour.jpg\", drawc)\n",
    "\n",
    "mask = np.zeros(img.shape, dtype = \"uint8\")\n",
    "# 绘制检测到的轮廓\n",
    "mask = cv2.drawContours(mask, contours,  -1, (255,255,255), -1)\n",
    "cv2.imwrite(\"mask.jpg\", mask)\n",
    "#提取图片\n",
    "divide = cv2.bitwise_and(mask, img)\n",
    "cv2.imwrite(\"divide.jpg\", divide)\n",
    "\n",
    "cut_b = divide[561:561+717,185:185+665]\n",
    "cv2.imwrite(\"cutb.jpg\", cut_b)\n",
    "cut_mask = mask[561:561+717,185:185+665]\n",
    "cv2.imwrite(\"cut_mask.jpg\", cut_mask)\n",
    "\n",
    "cut_not = cv2.bitwise_not(cut_mask)\n",
    "cv2.imwrite(\"cut_not.jpg\", cut_not)\n",
    "cut_image2 = img2[561:561+717,185:185+665]\n",
    "cv2.imwrite(\"cut_image2.jpg\", cut_image2)\n",
    "\n",
    "cut_image2 = cv2.bitwise_and(cut_not,cut_image2)\n",
    "cv2.imwrite(\"cut_image2.jpg\", cut_image2)\n",
    "cut_image2 = cv2.bitwise_or(cut_not, cut_image2)\n",
    "cv2.imwrite(\"cut_image2.jpg\", cut_image2)\n",
    "img2[561:561+717,185:185+665]= cut_image2[:,:]\n",
    "cv2.imwrite(\"merge.jpg\", img2)"
   ]
  },
  {
   "cell_type": "code",
   "execution_count": null,
   "id": "6309fdae",
   "metadata": {},
   "outputs": [],
   "source": []
  }
 ],
 "metadata": {
  "kernelspec": {
   "display_name": "Python 3",
   "language": "python",
   "name": "python3"
  },
  "language_info": {
   "codemirror_mode": {
    "name": "ipython",
    "version": 3
   },
   "file_extension": ".py",
   "mimetype": "text/x-python",
   "name": "python",
   "nbconvert_exporter": "python",
   "pygments_lexer": "ipython3",
   "version": "3.8.8"
  }
 },
 "nbformat": 4,
 "nbformat_minor": 5
}
